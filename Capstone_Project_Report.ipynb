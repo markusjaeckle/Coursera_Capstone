{
 "cells": [
  {
   "cell_type": "markdown",
   "metadata": {},
   "source": [
    "<font size=6>\n",
    "Opening a Fitness Center in New York City\n",
    "</font>\n",
    "<div align=\"left\">\n",
    "  Does it make sense?\n",
    "</div>"
   ]
  },
  {
   "cell_type": "markdown",
   "metadata": {},
   "source": [
    "A capstone project report for the IBM course \"Applied Data Science Capstone\" on coursera.org by Markus Jäckle"
   ]
  },
  {
   "cell_type": "markdown",
   "metadata": {},
   "source": [
    "Please note: The case introduced in this report is fictitious, created by Markus Jäckle, and tries to mimic a real world scenario."
   ]
  },
  {
   "cell_type": "markdown",
   "metadata": {},
   "source": [
    "<font size=6>\n",
    "    Table of contents\n",
    "</font>\n",
    "\n",
    "<ul>\n",
    "    <li><a href=\"#fn_[0]\" name=\"[0]\">Abstract</a></li>\n",
    "    <li><a href=\"#fn_[1]\" name=\"[1]\">Introduction</a></li>\n",
    "    <li><a href=\"#fn_[2]\" name=\"[2]\">Data</a></li>\n",
    "    <li><a href=\"#fn_[3]\" name=\"[3]\">Methodology</a></li>\n",
    "    <li><a href=\"#fn_[4]\" name=\"[4]\">Results</a></li>\n",
    "    <li><a href=\"#fn_[5]\" name=\"[5]\">Discussion</a></li>\n",
    "    <li><a href=\"#fn_[6]\" name=\"[6]\">Conclusion</a></li>\n",
    "    <li><a href=\"#fn_[7]\" name=\"[7]\">References</a></li>\n",
    "    <li><a href=\"#fn_[8]\" name=\"[8]\">Appendix</a></li>\n",
    "</ul>"
   ]
  },
  {
   "cell_type": "markdown",
   "metadata": {},
   "source": [
    "<font size=6>\n",
    "<a href=\"#[0]\" name=\"fn_[0]\">Abstract</a>\n",
    "</font>"
   ]
  },
  {
   "cell_type": "markdown",
   "metadata": {},
   "source": [
    "Fitness centers are generating more and more profit in the US.<a href=\"#fn_ref_[1]\" name=\"ref_[1]\">[1]</a> Thus, an example study for finding a suitable borough in New York City to open a new fitness center has been conducted. A model to predict a suitable location is presented, including some properties, and based on those parameters, an attempt to propose highly lucrative boroughs has been performed."
   ]
  },
  {
   "cell_type": "markdown",
   "metadata": {},
   "source": [
    "<font size=6>\n",
    "<a href=\"#[1]\" name=\"fn_[1]\">Introduction</a>\n",
    "</font>"
   ]
  },
  {
   "cell_type": "markdown",
   "metadata": {},
   "source": [
    "Over the past few years, the revenue generated in the fitness center industry has been on a steady rise.<a href=\"#fn_ref_[1]\" name=\"ref_[1]\">[1]</a> Motivated by this trend, and already benefiting from huge profit gains over the last years, a large fitness center group wants to take hold in New York City.\n",
    "\n",
    "Expectedly, it want's to make sure that it invests into the right location, because the stakeholders expect it to generate profit from the get-go. However, New York already has a lot of fitness centers and the question is, whether a suitable location can be determined, in this case based on the population density, then density of fitness centers, the amount of likes the fitness centers within a borough, and the GDP per capita."
   ]
  },
  {
   "cell_type": "markdown",
   "metadata": {},
   "source": [
    "<font size=6>\n",
    "<a href=\"#[2]\" name=\"fn_[2]\">Data</a>\n",
    "</font>"
   ]
  },
  {
   "cell_type": "markdown",
   "metadata": {},
   "source": [
    "The coordinates of New York City will be retrieved using Nominatim of the geopy library, which will return a location object of type geopy.location.Location, which contains the latitude and the longitude, and is of the format:\n",
    "\n",
    "Location(New York, United States of America, (40.7127281, -74.0060152, 0.0))\n",
    "\n",
    "The boroughs of New York City and their population density can be found on wikipedia.org in the table 'New York City's five boroughs',<a href=\"#fn_ref_[2]\" name=\"ref_[2]\">[2]</a> which contains the needed information in the\n",
    "\n",
    "+ Borough column listing the names as text, e.g. \"The Bronx\"\n",
    "+ persons / sq. mi as a number, with the hundreds separated by a comma, e.g. \"34,653\"\n",
    "\n",
    "The outlines of the five boroughs have been retrieved from a geojson file generated via reference <a href=\"#fn_ref_[3]\" name=\"ref_[3]\">[3]</a>.\n",
    "\n",
    "Please refer to the appendix for an example of the formatting of such a <a href=\"#fn_[a_1]\" name=\"[a_1]\">.geojson file</a>.\n",
    "\n",
    "The density of fitness centers is retrieved by counting the fitness centers in New York per borough. The number of fitness centers will be retrieved via counting the venues of the category 'Gym / Fitness center', in this case only the sub-categories 'Gymnastics Gym', 'Gym', and 'Weight Loss Center' will be included. These venues are returned by the Foursquare Places API 'explore' endpoint,<a href=\"#fn_ref_[4]\" name=\"ref_[4]\">[4]</a> and by their address grouped per borough.\n",
    "\n",
    "For an example of the structure of the 'explore' endpoint response, please refer to the <a href=\"#fn_[a_2]\" name=\"[a_2]\">\"Foursquare 'explore' endpoint response\"</a> appendix section.\n",
    "\n",
    "The ratings and likes of the venues will be retrieved using the foursquare Places API \"details\" endpoint.<a href=\"#fn_ref_[4]\" name=\"ref_[4]\">[4]</a>\n",
    "\n",
    "For an example of the structure of the 'details' endpoint response, please refer to the <a href=\"#fn_[a_3]\" name=\"[a_3]\">\"Foursquare 'explore' endpoint response\"</a> appendix section.\n",
    "\n",
    "For a final comparison of the different boroughs, the GDP per capita has been retrieved from the wikipedia table which was mentioned before.\n",
    "\n",
    "The GDP per capita in US$ ranged from values between 29200 and 360000, respectively.\n",
    "\n",
    "Originally, it was intended to include the traffic within each borough via the official data on transportation<a href=\"#fn_ref_[5]\" name=\"ref_[5]\">[5]</a>. However, Staten Island is not included in this data set. This data would have given a good estimate for the flux, or mobility, within a district, and expectedly, the higher the mobility, the more customers will be inclined to go to the fitness center, since it is on the way to or from work, or just easily accesible in general.\n",
    "\n",
    "The safety per county was also intended to be used via <a href=\"#fn_ref_[6]\" name=\"ref_[6]\">[6]</a>, since especially pedestrians desire venues of high safety, however, only Brooklyn and The Bronx are included in the dataset, which invalidates any comparison."
   ]
  },
  {
   "cell_type": "markdown",
   "metadata": {},
   "source": [
    "<font size=6>\n",
    "<a href=\"#[3]\" name=\"fn_[3]\">Methodology</a>\n",
    "</font>"
   ]
  },
  {
   "cell_type": "markdown",
   "metadata": {},
   "source": [
    "Pandas Dataframes were used to aggregate data for further processing.\n",
    "\n",
    "Folium choropleth maps were used to visualize borough-specific calculated data of the five boroughs of New York City.\n",
    "\n",
    "The queried venues had to be cleaned, because two duplicate venues have been queried, also 9 venues which were queried by the Manhattan borough location were part of the Queens borough. They had had to be removed to not falsify the number of venues per area, since the venues per area were calculated by the venues of the borough within the query radius, and -area respectively. Lastly, 5 venues did not lie in any borough, they also had to be removed from the dataset, which finally consisted of 396 boroughs.\n",
    "\n",
    "Venues of original query             |Venues of cleaned query\n",
    ":-------------------------:|:-------------------------:\n",
    "![image](https://github.com/markusjaeckle/Coursera_Capstone/raw/master/Capstone_Project_Report_images/output_38_0.png) <div align=\"left\">Figure 1: Queried venues with removed duplicate entries.</div> |![image](https://github.com/markusjaeckle/Coursera_Capstone/raw/master/Capstone_Project_Report_images/output_48_0.png) <div align=\"left\">Figure 2: Queried venues after cleaning the data as described above.</div>\n",
    "\n",
    "\n",
    "Folium CircleMarkers were used to visualize the fitness center locations, in order to check for locations which are not part of a NYC borough.\n",
    "\n",
    "Correlation between two kinds of data was investigated by calculating the coefficient of determination $R^2$ using SciKitLearn LinearRegression and by visualizing the dependencies using Seaborn regression plots.\n",
    "\n",
    "In order to check, whether the likes can be used as a substitute for the ratings, such a coefficient of determination was calculated. However, because no sufficient correlation was established, weighed rating signals, defined as\n",
    "\n",
    "$ratingSignals_{weighed} = ratingSignals * \\frac{rating}{10}$\n",
    "\n",
    "were calculated and introduced, in order to compare them with the number of likes, and to investigate a possible correlation, which would make it possible to substitute the weighed rating signals, and thus the rating, with the amount of likes.\n",
    "\n",
    "The folium plugin BeautifyIcon was used to visualize the number of likes of a venue, using seaborn generated color palettes exceeding the default 256 colors scheme of matplotlib, or folium, respectively. \n",
    "\n",
    "In the following, the color palette used for the 20 clusters mentioned below is shown, please note however, that the color palette used to color-code the likes of a venue consisted 393+1 entries, since this was the maximum amount of likes plus one entry for 0 likes.\n",
    "\n",
    "![image](https://github.com/markusjaeckle/Coursera_Capstone/raw/master/Capstone_Project_Report_images/output_131_0.png)\n",
    "\n",
    "A boxplot has been used to investigate the distribution of venues by their weighed likes, which were calculated via\n",
    "\n",
    "$likes_{weighed} = \\frac{likes}{venues~*~populationDensity}$\n",
    "\n",
    "In order to better visualize the distribution of venues with different ranges of weighed likes, 20 Clusters of venues, grouped by their weighed likes were calculated using the SciKitMeans module. Also, they were color-coded by their rating value and visualized using a folium choropleth map and BeautifyIcons.\n",
    "\n",
    "Lastly, the final comparison included the feature scaled population density, venue density, weighed likes, and GDP per capita. As mentioned before, unfortunately, it did not include data from crime stats which could help in infering a measure for safety, and also the data on the traffic was not included."
   ]
  },
  {
   "cell_type": "markdown",
   "metadata": {},
   "source": [
    "<font size=6>\n",
    "<a href=\"#[4]\" name=\"fn_[4]\">Results</a>\n",
    "</font>"
   ]
  },
  {
   "cell_type": "markdown",
   "metadata": {},
   "source": [
    "### 1) Visualization and comparison of the population density of the different boroughs:\n",
    "\n",
    "![image](https://github.com/markusjaeckle/Coursera_Capstone/raw/master/Capstone_Project_Report_images/output_22_0.png)\n",
    "Figure 3: Choropleth map of the population density of the boroughs of New York City in people per square mile."
   ]
  },
  {
   "cell_type": "markdown",
   "metadata": {},
   "source": [
    " Borough:  | Brooklyn | Manhattan | Queens | Staten Island | The Bronx\n",
    "   ---    |    ---   |    ---    |  ---   |      ---      |    ---\n",
    "**Population Density**: <br> (People per square mile)| 37137 <br> &nbsp; | 72033 <br> &nbsp; | 21460 <br> &nbsp; | 8112 <br>  &nbsp;| 34653 <br> &nbsp;\n",
    "\n",
    "Table 1: Population density of the boroughs of New York City in people per square mile."
   ]
  },
  {
   "cell_type": "markdown",
   "metadata": {},
   "source": [
    "As can be seen in figure 3 and table 1, Manhattan has the highest population density of all borouhgs. Brooklyn and The Bronx have roughly the same population density, followed by Queens. Staten island has 9 times less people per square mile than Staten Island."
   ]
  },
  {
   "cell_type": "markdown",
   "metadata": {},
   "source": [
    "### 2) Visualization and comparison of the venue density of the different boroughs:\n",
    "\n",
    "![image](https://github.com/markusjaeckle/Coursera_Capstone/raw/master/Capstone_Project_Report_images/output_62_0.png)\n",
    "Figure 4: Choropleth map of the venue density of the boroughs of New York City in venues per square mile."
   ]
  },
  {
   "cell_type": "markdown",
   "metadata": {},
   "source": [
    " Borough:  | Brooklyn | Manhattan | Queens | Staten Island | The Bronx\n",
    "   ---    |    ---   |    ---    |  ---   |      ---      |    ---\n",
    "**Venue Density**: <br> (Venues per square mile)| 1.15 <br> &nbsp; | 1.20 <br> &nbsp; | 0.90 <br> &nbsp; | 0.52 <br>  &nbsp;| 0.77 <br> &nbsp;\n",
    "\n",
    "Table 2: Venue density of the boroughs of New York City in venues per square mile."
   ]
  },
  {
   "cell_type": "markdown",
   "metadata": {},
   "source": [
    "Suprisingly, according to figure 4 and table 2, while Manhattan still has the highest venue density of all borouhgs, Brooklyn almost has the same density. Queens has double as much venues per area than Staten Island, and The Bronx is in between both."
   ]
  },
  {
   "cell_type": "markdown",
   "metadata": {},
   "source": [
    "### 3) Correlation between the population density and the venue density:\n",
    "\n",
    "![image](https://github.com/markusjaeckle/Coursera_Capstone/raw/master/Capstone_Project_Report_images/output_66_1.png)\n",
    "Figure 5: Regresion plot of the feature scaled venue density vs. the feature scaled population density."
   ]
  },
  {
   "cell_type": "markdown",
   "metadata": {},
   "source": [
    "While the data points in figure 5 suggest some degree of correlation, unfortunately not enough data points have been gathered to conclusively determine the degree of correlation. Certainly, the coefficient of determination $R^2$ is to small to indicate a strong correlation."
   ]
  },
  {
   "cell_type": "markdown",
   "metadata": {},
   "source": [
    "### 4) Correlation between ratings and likes?\n",
    "\n",
    "![image](https://github.com/markusjaeckle/Coursera_Capstone/raw/master/Capstone_Project_Report_images/output_85_1.png)\n",
    "Figure 6: Regresion plot of the feature scaled rating vs. the number of likes."
   ]
  },
  {
   "cell_type": "markdown",
   "metadata": {},
   "source": [
    "Figure 6 indicates that there is no correlation between the rating and the number of likes."
   ]
  },
  {
   "cell_type": "markdown",
   "metadata": {},
   "source": [
    "### 5) Correlation between weighed rating signals and likes!\n",
    "\n",
    "However, a like is an expression of a good rating.\n",
    "\n",
    "Thus, it would make sense that the number of ratings times the normalized rating, which is the rating divided by 10, correlates with the number of likes.\n",
    "\n",
    "In the next regression plot, let's plot the number of likes vs weighed rating signals, which are the number of weighed ratings:\n",
    "\n",
    "$ratingSignals_{weighed} = ratingSignals * \\frac{rating}{10}$"
   ]
  },
  {
   "cell_type": "markdown",
   "metadata": {},
   "source": [
    "![image](https://github.com/markusjaeckle/Coursera_Capstone/raw/master/Capstone_Project_Report_images/output_91_1.png)\n",
    "Figure 7: Regresion plot of the feature scaled weighed rating signals vs. the number of likes."
   ]
  },
  {
   "cell_type": "markdown",
   "metadata": {},
   "source": [
    "As can be seen in figure 7, an almost perfect correlation with only three small outliers is found."
   ]
  },
  {
   "cell_type": "markdown",
   "metadata": {},
   "source": [
    "### 6) Visualized weighed likes per borough and likes per venue\n",
    "\n",
    "Now, the likes count of each borough has been divided by the number of venues and the population density, to give the weighed likes per borough:"
   ]
  },
  {
   "cell_type": "markdown",
   "metadata": {},
   "source": [
    "![image](https://github.com/markusjaeckle/Coursera_Capstone/raw/master/Capstone_Project_Report_images/output_109_0.png)\n",
    "Figure 8: Choropleth plot of the weighed likes per borough and colorized venue plot, with the color correlating to the likes per venue; from a low to a high rating: blue color -> white color -> red color."
   ]
  },
  {
   "cell_type": "markdown",
   "metadata": {},
   "source": [
    "According to figure 8, a lot of the venues with the highest amount of ratings are located in Manhattan. This might be connected with the high population density of Manhattan, let's introduced a weighed likes per venue value and plot the distribution again."
   ]
  },
  {
   "cell_type": "markdown",
   "metadata": {},
   "source": [
    "### 7) Visualized weighed likes per venue\n",
    "\n",
    "Since some boroughs have a higher population density, obviously the like counts will be higher in those boroughs. Thus, the weighed likes are the likes per venue divided by the population density of the respective borough."
   ]
  },
  {
   "cell_type": "markdown",
   "metadata": {},
   "source": [
    "![image](https://github.com/markusjaeckle/Coursera_Capstone/raw/master/Capstone_Project_Report_images/output_115_0.png)\n",
    "Figure 9: Choropleth plot of the weighed likes per borough and colorized venue plot, with the color correlating to the weighed likes per venue; from a low to a high rating: blue color -> white color -> red color."
   ]
  },
  {
   "cell_type": "markdown",
   "metadata": {},
   "source": [
    "Note that now, according to figure 9, the venue with the highest amount of weighed likes is situated in Brooklyn and no longer in Manhattan."
   ]
  },
  {
   "cell_type": "markdown",
   "metadata": {},
   "source": [
    "Also, a boxplot has been used to investigate the distribution of venues, since most of the venues in figure 9 look dark blue, and thus have a very low amount of weighed likes, and also likes, according to figure 8 respectively:"
   ]
  },
  {
   "cell_type": "markdown",
   "metadata": {},
   "source": [
    "![image](report/output_121_1.png)\n",
    "Figure 10: Boxplot visualizing the distribution of venues with weighed likes. Note that the weighled likes have been normalized such that the maximum is the original likes per venue maximum."
   ]
  },
  {
   "cell_type": "markdown",
   "metadata": {},
   "source": [
    "The boxplot in figure 10 clearly shows that 75\\% of the venues don't get beyon 30 weighed likes per venue, which is the upper quartile threshold. However, a considerable amount of outliers is also present."
   ]
  },
  {
   "cell_type": "markdown",
   "metadata": {},
   "source": [
    "### 8) Clusters of venues by their rating\n",
    "\n",
    "Since most venues do not have a high rating count, let's visualize the above plot using the skmeans algorithm, which in this case get's us 20 clusters which are sorted by their feature-scaled weighed likes and their feature-scaled coordinates:"
   ]
  },
  {
   "cell_type": "markdown",
   "metadata": {},
   "source": [
    "![image](https://github.com/markusjaeckle/Coursera_Capstone/raw/master/Capstone_Project_Report_images/output_136_0.png)\n",
    "Figure 11: Choropleth plot of the weighed likes per borough and colorized venue cluster plot, with the color correlating to the weighed likes per venue; from a low to a high rating: blue color -> white color -> red color."
   ]
  },
  {
   "cell_type": "markdown",
   "metadata": {},
   "source": [
    "As figure 11 clearly shows, there are differences in the number of weighed likes per venue, which haven't been that visible before. Interestingly, often a north-south, or east-west border can be found between clusters."
   ]
  },
  {
   "cell_type": "markdown",
   "metadata": {},
   "source": [
    "<a href=\"#[5]\" name=\"fn_[5]\">Discussion</a>"
   ]
  },
  {
   "cell_type": "markdown",
   "metadata": {},
   "source": [
    "A first interesting find is, that Manhattan is leading in population density and venue density, which would make sense, if both features correlate. However, the correlation analysis shown in figure 5 didn't yield a conclusive answer.\n",
    "\n",
    "However, there are good reasons for a correlation, since the more people a borough has per area, if there is a constant percentage of people going to a fitness center, the demand in fitness centers should rise, which then of course would lead to an increase in fitness centers. One reason, why it was not possible to conclusively establish a correlation between both, and why the coefficient of determination $R^2$ was only 0.67 could be, that there were not enough data points to counter the effect of scattering, which was inherent to the data."
   ]
  },
  {
   "cell_type": "markdown",
   "metadata": {},
   "source": [
    "Secondly, as shown in figure 7, a correlation between the number of likes of a venue, and its weighed rating signals, as defined above, could be conclusively established.\n",
    "\n",
    "This means, that the likes could be used as a substitute for the rating, if a venue doesn't have a rating. If one wants to use the rating as a substitute for the amount of likes, however, one has to normalize the ratings and weigh them by the amount of ratingsignals.\n",
    "\n",
    "The established correlation was conclusive in such a way, that the weighed rating signals calculated as mentioned almost directly equaled the number of likes in most cases."
   ]
  },
  {
   "cell_type": "markdown",
   "metadata": {},
   "source": [
    "Next, a boxplot of the distribution of weighed likes per venue has been plotted. As figure 10 shows, there are some venues which exceed 75% of the other venues in a highly significant manner.\n",
    "\n",
    "A future investigation could show, whether those venues are of such a high quality that they excel their competitors in quality, or whether there are benefits to their location, which could lead to finding an attractive potential location for the fitness center.\n",
    "\n",
    "The plotted weighed likes per venue in figure 11 on one hand suggests, that an attractive location for founding a fitness center is either in the south of Manhattan or in the north of Brooklyn. However, this high venue density and high amount of weighed likes could also be indicative of a saturated market."
   ]
  },
  {
   "cell_type": "markdown",
   "metadata": {},
   "source": [
    "<a href=\"#[6]\" name=\"fn_[6]\">Conclusion</a>"
   ]
  },
  {
   "cell_type": "markdown",
   "metadata": {},
   "source": [
    "Borough       | Population Density | Inverse Venue Density | Weighed Likes | GDP per capita | Score\n",
    "   ---        |    ---             |    ---                |  ---          |      ---    |      ---   \n",
    "Brooklyn      | 0.454076 | 0.083333 | 0.718126 | 0.016295 | 1.27\n",
    "Manhattan     | 1.000000 | 0.000000 | 1.000000 | 1.000000 | 3.00\n",
    "Queens        | 0.208820 | 0.433333 | 0.116850 | 0.031382 | 0.79\n",
    "Staten Island | 0.000000 | 1.000000 | 0.281015 | 0.003319 | 1.28\n",
    "The Bronx     | 0.415216 | 0.633333 | 0.000000 | 0.000000 | 1.05\n",
    "\n",
    "Table 3a: Comparison of the feature scaled values of the population density, inverse venued density, weighed likes, and GDP per capita; the last rom equals to the sum over all entries along a row."
   ]
  },
  {
   "cell_type": "markdown",
   "metadata": {},
   "source": [
    "Table 3a clearly shows that Manhattan is leading in almost every feature, except venue density.\n",
    "\n",
    "Brooklyn is also very attractive for opening a fitness center, since it has a rather high population density, coupled with the second highest amount of weighed likes, but the second highest venue density and the low GDP per capita might counter this advantage.\n",
    "\n",
    "According to the scoring, Staten Island might seem to be attractive at first glance, due to its low venue density, however it has the lowest population density and might thus disqualify itself as an attractive location for a large fitness center group.\n",
    "\n",
    "The Bronx has a rather high population density, and it also has the second lowest venue density, however, people almost don't give any likes, and they also have the lowest GDP per capita.\n",
    "\n",
    "Queens has the lowest overall score, due to its low population density, and its high venue density, it has the second lowest amount of likes, but the second highest GDP per capita.\n",
    "\n",
    "Generally, despite the high venue density, Manhattan seems to be the best choice for opening a fitness center."
   ]
  },
  {
   "cell_type": "markdown",
   "metadata": {},
   "source": [
    "Since a high likes count can be indicative of a saturation of fitness centers with a high rating, the analysis will be repeated with the likes count viewed as negative. Remember that this weighed likes count is normalized per venue and population density:"
   ]
  },
  {
   "cell_type": "markdown",
   "metadata": {},
   "source": [
    "Borough       | Population Density | Inverse Venue Density | Inverse Weighed Likes | GDP per capita | Score\n",
    "   ---        |    ---             |    ---                |  ---          |      ---    |      ---   \n",
    "Brooklyn      | 0.454076 | 0.083333 | 0.281874 | 0.016295 | 0.84\n",
    "Manhattan     | 1.000000 | 0.000000 | 0.000000 | 1.000000 | 2.00\n",
    "Queens        | 0.208820 | 0.433333 | 0.883150 | 0.031382 | 1.56\n",
    "Staten Island | 0.000000 | 1.000000 | 0.718985 | 0.003319 | 1.72\n",
    "The Bronx     | 0.415216 | 0.633333 | 1.000000 | 0.000000 | 2.05\n",
    "\n",
    "Table 3b: Comparison of the feature scaled values of the population density, inverse venued density, weighed likes, and GDP per capita; the last rom equals to the sum over all entries along a row."
   ]
  },
  {
   "cell_type": "markdown",
   "metadata": {},
   "source": [
    "Even though losing the advantage of its high weighed likes count, according to table 3b, Manhattan still get's the second best rating, after The Bronx.\n",
    "\n",
    "The Bronx takes the first place, however, an investigation into the reasons why customers in The Bronx barely give any likes should be performed, possibly there is a correlation with the GDP per capita, however the data presented above only suggests such a correlation for the extreme cases of Manhattan and The Bronx.\n",
    "\n",
    "However, an interesting find is, that Staten Island holds its position at the second position. This is rather indicative, of it being an attractive location to invest in.\n",
    "\n",
    "Overall, while a low weighed likes count can be indicative of a non-saturated market, it can also be a hint, that customers in those areas are either hard to satisfy, or don't care much about rating a location.\n",
    "\n",
    "Depending on which reasons applies to the Bronx, should also be considered as a location, but since Manhattan and Staten Island hold their respective positions rather well, they should be considered aswell."
   ]
  },
  {
   "cell_type": "markdown",
   "metadata": {},
   "source": [
    "The main problem in this analysis was, that there was no available target variable.\n",
    "\n",
    "The number of venues per population density on one hand would have been such a target variable, since it is an indicator of the attractiveness of such a location for other fitness centers, however, a borough with a lack of fitness centers is far more attractive than one saturated with fitness centers, and thus, the mentioned feature could also counter indicative of an attractive location to invest in.\n",
    "\n",
    "On the other hand, a combination of a high number of venues and a small weighed likes value is indicative of a desire for a high-quality fitness center in this area. However, in certain boroughs, there also could be a natural inclination to not give likes as much as in other boroughs. Thus, even in this case, the fitness center might not be profitable, for one reason or another.\n",
    "\n",
    "Additional data, like traffic- and crime stats, might have been able to alleviate this issue, however they were readily available for all compared boroughs."
   ]
  },
  {
   "cell_type": "markdown",
   "metadata": {},
   "source": [
    "<a href=\"#[7]\" name=\"fn_[7]\">References</a>"
   ]
  },
  {
   "cell_type": "markdown",
   "metadata": {},
   "source": [
    "<a href=\"#ref_[1]\" name=\"fn_ref_[1]\">[1]</a> https://www.statista.com/statistics/236120/us-fitness-center-revenue/\n",
    "\n",
    "<a href=\"#ref_[2]\" name=\"fn_ref_[2]\">[2]</a> https://en.wikipedia.org/wiki/New_York_City#Boroughs\n",
    "\n",
    "<a href=\"#ref_[3]\" name=\"fn_ref_[3]\">[3]</a> https://data.cityofnewyork.us/City-Government/Borough-Boundaries/tqmj-j8zm\n",
    "\n",
    "<a href=\"#ref_[4]\" name=\"fn_ref_[4]\">[4]</a> https://developer.foursquare.com/docs/api/endpoints \n",
    "\n",
    "<a href=\"#ref_[5]\" name=\"fn_ref_[5]\">[5]</a> https://data.ny.gov/Transportation/Annual-Average-Daily-Traffic-AADT-Beginning-1977/6amx-2pbv\n",
    "\n",
    "<a href=\"#ref_[6]\" name=\"fn_ref_[6]\">[6]</a> https://data.ny.gov/Public-Safety/Index-Crimes-by-County-and-Agency-Beginning-1990/ca8h-8gjq"
   ]
  },
  {
   "cell_type": "markdown",
   "metadata": {},
   "source": [
    "<a href=\"#[8]\" name=\"fn_[8]\">Appendix</a>"
   ]
  },
  {
   "cell_type": "markdown",
   "metadata": {},
   "source": [
    "<a href=\"#[a_1]\" name=\"fn_[a_1]\">Borough .geojson</a> file structure:"
   ]
  },
  {
   "cell_type": "code",
   "execution_count": null,
   "metadata": {},
   "outputs": [],
   "source": [
    "{\"type\": \"FeatureCollection\", \"features\": [\n",
    "{ \"type\": \"Feature\", \"id\": 0, \"properties\":\n",
    " { \"BoroCode\": 5, \"BoroName\": \"Staten Island\", \"Shape_Leng\": 330385.03697,\n",
    "  \"Shape_Area\": 1623853249.910000085830688 }, \n",
    " \"geometry\": { \"type\": \"MultiPolygon\", \n",
    "              \"coordinates\": [ [ [ \n",
    "                  [ -74.050508064032471, 40.566422034160816 ], \n",
    "                  ... list of points describing the shape geometry ..., \n",
    "                  [ -74.082212729149376, 40.648280162290078 ] ] ] ] } }\n",
    ",\n",
    "{ \"type\": \"Feature\", \"id\": 1, \"properties\": \n",
    " { \"BoroCode\": 4, \"BoroName\": \"Queens\", \"Shape_Leng\": 861038.4793, \n",
    "  \"Shape_Area\": 3049947236.730000019073486 }, \n",
    " \"geometry\": { \"type\": \"MultiPolygon\", \n",
    "              \"coordinates\": [ [ [ \n",
    "                  [ -73.836682741067079, 40.594946697015807 ],\n",
    "                  ... list of points describing the shape geometry ...,\n",
    "                  [ -74.082212729149376, 40.648280162290078 ] ] ] ] } }\n",
    ",\n",
    "other borough geometries\n",
    ",\n",
    "                  [ -74.082212729149376, 40.648280162290078 ] ] ] ] } }\n",
    "  \n",
    "]\n",
    "}"
   ]
  },
  {
   "cell_type": "markdown",
   "metadata": {},
   "source": [
    "<a href=\"#[a_2]\" name=\"fn_[a_2]\">Foursquare \"explore\" endpoint response</a> example:"
   ]
  },
  {
   "cell_type": "code",
   "execution_count": null,
   "metadata": {},
   "outputs": [],
   "source": [
    "{\n",
    "  \"meta\": {\n",
    "    \"code\": 200,\n",
    "    \"requestId\": \"5ac51ef86a607143de8eg5cb\"\n",
    "  },\n",
    "  \"response\": {\n",
    "    \"warning\": {\n",
    "      \"text\": \"There aren't a lot of results near you. Try something more general, reset your filters, or expand the search area.\"\n",
    "    },\n",
    "    \"suggestedRadius\": 600,\n",
    "    \"headerLocation\": \"Lower East Side\",\n",
    "    \"headerFullLocation\": \"Lower East Side, New York\",\n",
    "    \"headerLocationGranularity\": \"neighborhood\",\n",
    "    \"totalResults\": 230,\n",
    "    \"suggestedBounds\": {\n",
    "      \"ne\": {\n",
    "        \"lat\": 40.724216906965616,\n",
    "        \"lng\": -73.9896507407283\n",
    "      },\n",
    "      \"sw\": {\n",
    "        \"lat\": 40.72151724718017,\n",
    "        \"lng\": -73.98693222860872\n",
    "      }\n",
    "    },\n",
    "    \"groups\": [\n",
    "      {\n",
    "        \"type\": \"Recommended Places\",\n",
    "        \"name\": \"recommended\",\n",
    "        \"items\": [\n",
    "          {\n",
    "            \"reasons\": {\n",
    "              \"count\": 0,\n",
    "              \"items\": [\n",
    "                {\n",
    "                  \"summary\": \"This spot is popular\",\n",
    "                  \"type\": \"general\",\n",
    "                  \"reasonName\": \"globalInteractionReason\"\n",
    "                }\n",
    "              ]\n",
    "            },\n",
    "            \"venue\": {\n",
    "              \"id\": \"49b6e8d2f964a52016531fe3\",\n",
    "              \"name\": \"Russ & Daughters\",\n",
    "              \"location\": {\n",
    "                \"address\": \"179 E Houston St\",\n",
    "                \"crossStreet\": \"btwn Allen & Orchard St\",\n",
    "                \"lat\": 40.72286707707289,\n",
    "                \"lng\": -73.98829148466851,\n",
    "                \"labeledLatLngs\": [\n",
    "                  {\n",
    "                    \"label\": \"display\",\n",
    "                    \"lat\": 40.72286707707289,\n",
    "                    \"lng\": -73.98829148466851\n",
    "                  }\n",
    "                ],\n",
    "                \"distance\": 130,\n",
    "                \"postalCode\": \"10002\",\n",
    "                \"cc\": \"US\",\n",
    "                \"city\": \"New York\",\n",
    "                \"state\": \"NY\",\n",
    "                \"country\": \"United States\",\n",
    "                \"formattedAddress\": [\n",
    "                  \"179 E Houston St (btwn Allen & Orchard St)\",\n",
    "                  \"New York, NY 10002\",\n",
    "                  \"United States\"\n",
    "                ]\n",
    "              },\n",
    "              \"categories\": [\n",
    "                {\n",
    "                  \"id\": \"4bf58dd8d48988d1f5941735\",\n",
    "                  \"name\": \"Gourmet Shop\",\n",
    "                  \"pluralName\": \"Gourmet Shops\",\n",
    "                  \"shortName\": \"Gourmet\",\n",
    "                  \"icon\": {\n",
    "                    \"prefix\": \"https://ss3.4sqi.net/img/categories_v2/shops/food_gourmet_\",\n",
    "                    \"suffix\": \".png\"\n",
    "                  },\n",
    "                  \"primary\": true\n",
    "                }\n",
    "              ],\n",
    "              \"popularityByGeo\": 0.9999983845502491,\n",
    "              \"venuePage\": {\n",
    "                \"id\": \"77298563\"\n",
    "              }\n",
    "            }\n",
    "          }\n",
    "        ]\n",
    "      }\n",
    "    ]\n",
    "  }\n",
    "}"
   ]
  },
  {
   "cell_type": "markdown",
   "metadata": {},
   "source": [
    "<a href=\"#[a_3]\" name=\"fn_[a_3]\">Foursquare \"details\" endpoint response</a> example:"
   ]
  },
  {
   "cell_type": "code",
   "execution_count": null,
   "metadata": {},
   "outputs": [],
   "source": [
    "{\n",
    "  \"meta\": {\n",
    "    \"code\": 200,\n",
    "    \"requestId\": \"59a45921351e3d43b07028b5\"\n",
    "  },\n",
    "  \"response\": {\n",
    "    \"venue\": {\n",
    "      \"id\": \"412d2800f964a520df0c1fe3\",\n",
    "      \"name\": \"Central Park\",\n",
    "      \"contact\": {\n",
    "        \"phone\": \"2123106600\",\n",
    "        \"formattedPhone\": \"(212) 310-6600\",\n",
    "        \"twitter\": \"centralparknyc\",\n",
    "        \"instagram\": \"centralparknyc\",\n",
    "        \"facebook\": \"37965424481\",\n",
    "        \"facebookUsername\": \"centralparknyc\",\n",
    "        \"facebookName\": \"Central Park\"\n",
    "      },\n",
    "      \"location\": {\n",
    "        \"address\": \"59th St to 110th St\",\n",
    "        \"crossStreet\": \"5th Ave to Central Park West\",\n",
    "        \"lat\": 40.78408342593807,\n",
    "        \"lng\": -73.96485328674316,\n",
    "        \"postalCode\": \"10028\",\n",
    "        \"cc\": \"US\",\n",
    "        \"city\": \"New York\",\n",
    "        \"state\": \"NY\",\n",
    "        \"country\": \"United States\",\n",
    "        \"formattedAddress\": [\n",
    "          \"59th St to 110th St (5th Ave to Central Park West)\",\n",
    "          \"New York, NY 10028\",\n",
    "          \"United States\"\n",
    "        ]\n",
    "      },\n",
    "      \"canonicalUrl\": \"https://foursquare.com/v/central-park/412d2800f964a520df0c1fe3\",\n",
    "      \"categories\": [\n",
    "        {\n",
    "          \"id\": \"4bf58dd8d48988d163941735\",\n",
    "          \"name\": \"Park\",\n",
    "          \"pluralName\": \"Parks\",\n",
    "          \"shortName\": \"Park\",\n",
    "          \"icon\": {\n",
    "            \"prefix\": \"https://ss3.4sqi.net/img/categories_v2/parks_outdoors/park_\",\n",
    "            \"suffix\": \".png\"\n",
    "          },\n",
    "          \"primary\": true\n",
    "        }\n",
    "      ],\n",
    "      \"verified\": true,\n",
    "      \"stats\": {\n",
    "        \"checkinsCount\": 364591,\n",
    "        \"usersCount\": 311634,\n",
    "        \"tipCount\": 1583,\n",
    "        \"visitsCount\": 854553\n",
    "      },\n",
    "      \"url\": \"http://www.centralparknyc.org\",\n",
    "      \"likes\": {\n",
    "        \"count\": 17370,\n",
    "        \"summary\": \"17370 Likes\"\n",
    "      },\n",
    "      \"rating\": 9.8,\n",
    "      \"ratingColor\": \"00B551\",\n",
    "      \"ratingSignals\": 18854,\n",
    "      \"beenHere\": {\n",
    "        \"count\": 0,\n",
    "        \"unconfirmedCount\": 0,\n",
    "        \"marked\": false,\n",
    "        \"lastCheckinExpiredAt\": 0\n",
    "      },\n",
    "      \"photos\": {\n",
    "        \"count\": 26681,\n",
    "        \"groups\": [\n",
    "          {\n",
    "            \"type\": \"venue\",\n",
    "            \"name\": \"Venue photos\",\n",
    "            \"count\": 26681,\n",
    "            \"items\": [\n",
    "              {\n",
    "                \"id\": \"513bd223e4b0e8ef8292ee54\",\n",
    "                \"createdAt\": 1362874915,\n",
    "                \"source\": {\n",
    "                  \"name\": \"Instagram\",\n",
    "                  \"url\": \"http://instagram.com\"\n",
    "                },\n",
    "                \"prefix\": \"https://igx.4sqi.net/img/general/\",\n",
    "                \"suffix\": \"/655018_Zp3vA90Sy4IIDApvfAo5KnDItoV0uEDZeST7bWT-qzk.jpg\",\n",
    "                \"width\": 612,\n",
    "                \"height\": 612,\n",
    "                \"user\": {\n",
    "                  \"id\": \"123456\",\n",
    "                  \"firstName\": \"John\",\n",
    "                  \"lastName\": \"D\"\n",
    "                },\n",
    "                \"visibility\": \"public\"\n",
    "              }\n",
    "            ]\n",
    "          }\n",
    "        ]\n",
    "      },\n",
    "      \"description\": \"Central Park is the 843-acre green heart of Manhattan and is maintained by the Central Park Conservancy. It was designed in the 19th century by Frederick Law Olmsted and Calvert Vaux as an urban escape for New Yorkers, and now receives over 40 million visits per year.\",\n",
    "      \"storeId\": \"\",\n",
    "      \"page\": {\n",
    "        \"pageInfo\": {\n",
    "          \"description\": \"The mission of the Central Park Conservancy, a private non-profit, is to restore, manage, and enhance Central Park, in partnership with the public.\",\n",
    "          \"banner\": \"https://is1.4sqi.net/userpix/HS2JAA2IAAAR2WZO.jpg\",\n",
    "          \"links\": {\n",
    "            \"count\": 1,\n",
    "            \"items\": [\n",
    "              {\n",
    "                \"url\": \"http://www.centralparknyc.org\"\n",
    "              }\n",
    "            ]\n",
    "          }\n",
    "        },\n",
    "        \"user\": {\n",
    "          \"id\": \"29060351\",\n",
    "          \"firstName\": \"Central Park\",\n",
    "          \"photo\": {\n",
    "            \"prefix\": \"https://igx.4sqi.net/img/user/\",\n",
    "            \"suffix\": \"/PCPGGJ2N3ULA5O05.jpg\"\n",
    "          },\n",
    "          \"type\": \"chain\",\n",
    "          \"tips\": {\n",
    "            \"count\": 37\n",
    "          },\n",
    "          \"lists\": {\n",
    "            \"groups\": [\n",
    "              {\n",
    "                \"type\": \"created\",\n",
    "                \"count\": 2,\n",
    "                \"items\": []\n",
    "              }\n",
    "            ]\n",
    "          },\n",
    "          \"bio\": \"\"\n",
    "        }\n",
    "      },\n",
    "      \"hereNow\": {\n",
    "        \"count\": 16,\n",
    "        \"summary\": \"16 people are here\",\n",
    "        \"groups\": [\n",
    "          {\n",
    "            \"type\": \"others\",\n",
    "            \"name\": \"Other people here\",\n",
    "            \"count\": 16,\n",
    "            \"items\": []\n",
    "          }\n",
    "        ]\n",
    "      },\n",
    "      \"createdAt\": 1093478400,\n",
    "      \"tips\": {\n",
    "        \"count\": 1583,\n",
    "        \"groups\": [\n",
    "          {\n",
    "            \"type\": \"others\",\n",
    "            \"name\": \"All tips\",\n",
    "            \"count\": 1583,\n",
    "            \"items\": [\n",
    "              {\n",
    "                \"id\": \"5150464ee4b02f70eb28eee4\",\n",
    "                \"createdAt\": 1364215374,\n",
    "                \"text\": \"Did you know? To create that feeling of being in the countryside, and not in the middle of a city, the four Transverse Roads were sunken down eight feet below the park’s surface.\",\n",
    "                \"type\": \"user\",\n",
    "                \"canonicalUrl\": \"https://foursquare.com/item/5150464ee4b02f70eb28eee4\",\n",
    "                \"photo\": {\n",
    "                  \"id\": \"5150464f52625adbe29d04c2\",\n",
    "                  \"createdAt\": 1364215375,\n",
    "                  \"source\": {\n",
    "                    \"name\": \"Foursquare Web\",\n",
    "                    \"url\": \"https://foursquare.com\"\n",
    "                  },\n",
    "                  \"prefix\": \"https://igx.4sqi.net/img/general/\",\n",
    "                  \"suffix\": \"/13764780_Ao02DfJpgG1ar2PfgP51hOKWsn38iai8bsSpzKd0GcM.jpg\",\n",
    "                  \"width\": 800,\n",
    "                  \"height\": 542,\n",
    "                  \"visibility\": \"public\"\n",
    "                },\n",
    "                \"photourl\": \"https://igx.4sqi.net/img/general/original/13764780_Ao02DfJpgG1ar2PfgP51hOKWsn38iai8bsSpzKd0GcM.jpg\",\n",
    "                \"lang\": \"en\",\n",
    "                \"likes\": {\n",
    "                  \"count\": 247,\n",
    "                  \"groups\": [\n",
    "                    {\n",
    "                      \"type\": \"others\",\n",
    "                      \"count\": 247,\n",
    "                      \"items\": []\n",
    "                    }\n",
    "                  ],\n",
    "                  \"summary\": \"247 likes\"\n",
    "                },\n",
    "                \"logView\": true,\n",
    "                \"agreeCount\": 246,\n",
    "                \"disagreeCount\": 0,\n",
    "                \"todo\": {\n",
    "                  \"count\": 30\n",
    "                },\n",
    "                \"user\": {\n",
    "                  \"id\": \"13764780\",\n",
    "                  \"firstName\": \"City of New York\",\n",
    "                  \"photo\": {\n",
    "                    \"prefix\": \"https://igx.4sqi.net/img/user/\",\n",
    "                    \"suffix\": \"/2X1FKJPUY3DGRRK3.png\"\n",
    "                  },\n",
    "                  \"type\": \"page\"\n",
    "                }\n",
    "              },\n",
    "              {\n",
    "                \"id\": \"522afa5b11d2740e9aeeb336\",\n",
    "                \"createdAt\": 1378548315,\n",
    "                \"text\": \"Lots of squirrels in the park! パーク内にはリスがたくさんいます！しかも思ったよりデカイです。\",\n",
    "                \"type\": \"user\",\n",
    "                \"logView\": true,\n",
    "                \"editedAt\": 1399418942,\n",
    "                \"agreeCount\": 61,\n",
    "                \"disagreeCount\": 0,\n",
    "                \"todo\": {\n",
    "                  \"count\": 1\n",
    "                },\n",
    "                \"user\": {\n",
    "                  \"id\": \"5053872\",\n",
    "                  \"firstName\": \"Nnkoji\",\n",
    "                  \"photo\": {\n",
    "                    \"prefix\": \"https://igx.4sqi.net/img/user/\",\n",
    "                    \"suffix\": \"/5053872-DUZ51RAOUVH3GU33.jpg\"\n",
    "                  }\n",
    "                },\n",
    "                \"authorInteractionType\": \"liked\"\n",
    "              },\n",
    "              {\n",
    "                \"id\": \"4cd5bda1b6962c0fd19c2e96\",\n",
    "                \"createdAt\": 1289076129,\n",
    "                \"text\": \"PHOTO: 1975 was the last year the New York City marathon was raced entirely inside Central Park. In this photo, runners at the marathon starting line.\",\n",
    "                \"type\": \"user\",\n",
    "                \"url\": \"http://www.nydailynewspix.com/sales/largeview.php?name=87g0km0g.jpg&id=152059&lbx=-1&return_page=searchResults.php&page=2\",\n",
    "                \"canonicalUrl\": \"https://foursquare.com/item/4cd5bda1b6962c0fd19c2e96\",\n",
    "                \"lang\": \"en\",\n",
    "                \"likes\": {\n",
    "                  \"count\": 26,\n",
    "                  \"groups\": [\n",
    "                    {\n",
    "                      \"type\": \"others\",\n",
    "                      \"count\": 26,\n",
    "                      \"items\": []\n",
    "                    }\n",
    "                  ],\n",
    "                  \"summary\": \"26 likes\"\n",
    "                },\n",
    "                \"logView\": true,\n",
    "                \"agreeCount\": 25,\n",
    "                \"disagreeCount\": 0,\n",
    "                \"todo\": {\n",
    "                  \"count\": 16\n",
    "                },\n",
    "                \"user\": {\n",
    "                  \"id\": \"1241858\",\n",
    "                  \"firstName\": \"The New York Daily News\",\n",
    "                  \"photo\": {\n",
    "                    \"prefix\": \"https://igx.4sqi.net/img/user/\",\n",
    "                    \"suffix\": \"/3EV01452MGIUWBAQ.jpg\"\n",
    "                  },\n",
    "                  \"type\": \"page\"\n",
    "                }\n",
    "              }\n",
    "            ]\n",
    "          }\n",
    "        ]\n",
    "      },\n",
    "      \"shortUrl\": \"http://4sq.com/2UsPUp\",\n",
    "      \"timeZone\": \"America/New_York\",\n",
    "      \"listed\": {\n",
    "        \"count\": 5731,\n",
    "        \"groups\": [\n",
    "          {\n",
    "            \"type\": \"others\",\n",
    "            \"name\": \"Lists from other people\",\n",
    "            \"count\": 5731,\n",
    "            \"items\": [\n",
    "              {\n",
    "                \"id\": \"4fad24a2e4b0bcc0c18be03c\",\n",
    "                \"name\": \"101 places to see in Manhattan before you die\",\n",
    "                \"description\": \"Best spots to see in Manhattan (New York City) as restaurants, monuments and public spaces. Enjoy!\",\n",
    "                \"type\": \"others\",\n",
    "                \"user\": {\n",
    "                  \"id\": \"356747\",\n",
    "                  \"firstName\": \"John\",\n",
    "                  \"lastName\": \"D\",\n",
    "                  \"photo\": {\n",
    "                    \"prefix\": \"https://igx.4sqi.net/img/user/\",\n",
    "                    \"suffix\": \"/356747-WQOTM2ASOIERONL3.jpg\"\n",
    "                  }\n",
    "                },\n",
    "                \"editable\": false,\n",
    "                \"public\": true,\n",
    "                \"collaborative\": false,\n",
    "                \"url\": \"/boke/list/101-places-to-see-in-manhattan-before-you-die\",\n",
    "                \"canonicalUrl\": \"https://foursquare.com/boke/list/101-places-to-see-in-manhattan-before-you-die\",\n",
    "                \"createdAt\": 1336747170,\n",
    "                \"updatedAt\": 1406242886,\n",
    "                \"photo\": {\n",
    "                  \"id\": \"4fa97b0c121d8a3faef6f2df\",\n",
    "                  \"createdAt\": 1336507148,\n",
    "                  \"prefix\": \"https://igx.4sqi.net/img/general/\",\n",
    "                  \"suffix\": \"/IcmBihQCVr4Zt0Vxt9l237NHv--nxg1Z5_8QIMjeD8E.jpg\",\n",
    "                  \"width\": 325,\n",
    "                  \"height\": 487,\n",
    "                  \"user\": {\n",
    "                    \"id\": \"13125997\",\n",
    "                    \"firstName\": \"IWalked Audio Tours\",\n",
    "                    \"photo\": {\n",
    "                      \"prefix\": \"https://igx.4sqi.net/img/user/\",\n",
    "                      \"suffix\": \"/KZCTVBJ0FXUHSQA5.jpg\"\n",
    "                    },\n",
    "                    \"type\": \"page\"\n",
    "                  },\n",
    "                  \"visibility\": \"public\"\n",
    "                },\n",
    "                \"followers\": {\n",
    "                  \"count\": 944\n",
    "                },\n",
    "                \"listItems\": {\n",
    "                  \"count\": 101,\n",
    "                  \"items\": [\n",
    "                    {\n",
    "                      \"id\": \"t4b67904a70c603bb845291b4\",\n",
    "                      \"createdAt\": 1336747293,\n",
    "                      \"photo\": {\n",
    "                        \"id\": \"4faa9dd9e4b01bd5523d1de8\",\n",
    "                        \"createdAt\": 1336581593,\n",
    "                        \"prefix\": \"https://igx.4sqi.net/img/general/\",\n",
    "                        \"suffix\": \"/KaAuGPKMZev1Te0uucRYHk92RiULGj3-GYWkX_zXbjM.jpg\",\n",
    "                        \"width\": 720,\n",
    "                        \"height\": 532,\n",
    "                        \"visibility\": \"public\"\n",
    "                      }\n",
    "                    }\n",
    "                  ]\n",
    "                }\n",
    "              }\n",
    "            ]\n",
    "          }\n",
    "        ]\n",
    "      },\n",
    "      \"phrases\": [\n",
    "        {\n",
    "          \"phrase\": \"parque todo\",\n",
    "          \"sample\": {\n",
    "            \"entities\": [\n",
    "              {\n",
    "                \"indices\": [\n",
    "                  22,\n",
    "                  33\n",
    "                ],\n",
    "                \"type\": \"keyPhrase\"\n",
    "              }\n",
    "            ],\n",
    "            \"text\": \"... a ponta, curtir o parque todo, sem pressa, admirando cada lugar. Se puder...\"\n",
    "          },\n",
    "          \"count\": 4\n",
    "        }\n",
    "      ],\n",
    "      \"hours\": {\n",
    "        \"status\": \"Open until 1:00 AM\",\n",
    "        \"isOpen\": true,\n",
    "        \"isLocalHoliday\": false,\n",
    "        \"timeframes\": [\n",
    "          {\n",
    "            \"days\": \"Mon–Sun\",\n",
    "            \"includesToday\": true,\n",
    "            \"open\": [\n",
    "              {\n",
    "                \"renderedTime\": \"6:00 AM–1:00 AM\"\n",
    "              }\n",
    "            ],\n",
    "            \"segments\": []\n",
    "          }\n",
    "        ]\n",
    "      },\n",
    "      \"popular\": {\n",
    "        \"status\": \"Likely open\",\n",
    "        \"isOpen\": true,\n",
    "        \"isLocalHoliday\": false,\n",
    "        \"timeframes\": [\n",
    "          {\n",
    "            \"days\": \"Tue–Thu\",\n",
    "            \"open\": [\n",
    "              {\n",
    "                \"renderedTime\": \"Noon–8:00 PM\"\n",
    "              }\n",
    "            ],\n",
    "            \"segments\": []\n",
    "          },\n",
    "          {\n",
    "            \"days\": \"Fri\",\n",
    "            \"open\": [\n",
    "              {\n",
    "                \"renderedTime\": \"11:00 AM–7:00 PM\"\n",
    "              }\n",
    "            ],\n",
    "            \"segments\": []\n",
    "          },\n",
    "          {\n",
    "            \"days\": \"Sat\",\n",
    "            \"open\": [\n",
    "              {\n",
    "                \"renderedTime\": \"8:00 AM–8:00 PM\"\n",
    "              }\n",
    "            ],\n",
    "            \"segments\": []\n",
    "          },\n",
    "          {\n",
    "            \"days\": \"Sun\",\n",
    "            \"open\": [\n",
    "              {\n",
    "                \"renderedTime\": \"8:00 AM–7:00 PM\"\n",
    "              }\n",
    "            ],\n",
    "            \"segments\": []\n",
    "          }\n",
    "        ]\n",
    "      },\n",
    "      \"pageUpdates\": {\n",
    "        \"count\": 12,\n",
    "        \"items\": []\n",
    "      },\n",
    "      \"inbox\": {\n",
    "        \"count\": 0,\n",
    "        \"items\": []\n",
    "      },\n",
    "      \"venueChains\": [],\n",
    "      \"attributes\": {\n",
    "        \"groups\": [\n",
    "          {\n",
    "            \"type\": \"payments\",\n",
    "            \"name\": \"Credit Cards\",\n",
    "            \"summary\": \"No Credit Cards\",\n",
    "            \"count\": 7,\n",
    "            \"items\": [\n",
    "              {\n",
    "                \"displayName\": \"Credit Cards\",\n",
    "                \"displayValue\": \"No\"\n",
    "              }\n",
    "            ]\n",
    "          }\n",
    "        ]\n",
    "      },\n",
    "      \"bestPhoto\": {\n",
    "        \"id\": \"513bd223e4b0e8ef8292ee54\",\n",
    "        \"createdAt\": 1362874915,\n",
    "        \"source\": {\n",
    "          \"name\": \"Instagram\",\n",
    "          \"url\": \"http://instagram.com\"\n",
    "        },\n",
    "        \"prefix\": \"https://igx.4sqi.net/img/general/\",\n",
    "        \"suffix\": \"/655018_Zp3vA90Sy4IIDApvfAo5KnDItoV0uEDZeST7bWT-qzk.jpg\",\n",
    "        \"width\": 612,\n",
    "        \"height\": 612,\n",
    "        \"visibility\": \"public\"\n",
    "      }\n",
    "    }\n",
    "  }\n",
    "}"
   ]
  }
 ],
 "metadata": {
  "kernelspec": {
   "display_name": "Python 3",
   "language": "python",
   "name": "python3"
  },
  "language_info": {
   "codemirror_mode": {
    "name": "ipython",
    "version": 3
   },
   "file_extension": ".py",
   "mimetype": "text/x-python",
   "name": "python",
   "nbconvert_exporter": "python",
   "pygments_lexer": "ipython3",
   "version": "3.7.4"
  }
 },
 "nbformat": 4,
 "nbformat_minor": 2
}
