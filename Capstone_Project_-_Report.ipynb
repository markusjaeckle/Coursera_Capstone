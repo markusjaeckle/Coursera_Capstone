{
    "cells": [
        {
            "cell_type": "markdown",
            "metadata": {},
            "source": " # Opening a Fitness Centre in New York City\n ## - Does it make sense?"
        },
        {
            "cell_type": "markdown",
            "metadata": {},
            "source": "A capstone project report for the IBM course \"Applied Data Science Capstone\" on coursera.org by Markus J\u00e4ckle"
        },
        {
            "cell_type": "markdown",
            "metadata": {},
            "source": "Please note: The case introduced in this report is fictitious, created by Markus J\u00e4ckle, and tries to mimic a real world scenario."
        },
        {
            "cell_type": "markdown",
            "metadata": {},
            "source": "Table of contents\n\n<ul>\n<li><a href=\"#fn_[0]\" name=\"[0]\">Abstract</a></li>\n<li><a href=\"#fn_[1]\" name=\"[1]\">Introduction</a></li>\n<li><a href=\"#fn_[2]\" name=\"[2]\">Data</a></li>\n<li><a href=\"#fn_[3]\" name=\"[3]\">Methodology</a></li>\n<li><a href=\"#fn_[4]\" name=\"[4]\">Results</a></li>\n<li><a href=\"#fn_[5]\" name=\"[5]\">Discussion</a></li>\n<li><a href=\"#fn_[6]\" name=\"[6]\">Conclusion</a></li>\n<li><a href=\"#fn_[7]\" name=\"[7]\">References</a></li>\n</ul>"
        },
        {
            "cell_type": "markdown",
            "metadata": {},
            "source": "<a href=\"#[0]\" name=\"fn_[0]\">Abstract</a>"
        },
        {
            "cell_type": "markdown",
            "metadata": {},
            "source": "Fitness centers are generating more and more profit in the US.<a href=\"#fn_ref_[1]\" name=\"ref_[1]\">[1]</a> Thus, an example study for finding a suitable borough in New York City to open a new fitness center has been conducted. A model to predict a suitable location is presented, including some properties, which should affect the revenue of a fitness center significantly. Based on those parameters, possibly highly lucrative boroughs are proposed."
        },
        {
            "cell_type": "markdown",
            "metadata": {},
            "source": "<a href=\"#[1]\" name=\"fn_[1]\">Introduction</a>"
        },
        {
            "cell_type": "markdown",
            "metadata": {},
            "source": "Over the past few years, the revenue generated in the fitness center industry has been on a steady rise.<a href=\"#fn_ref_[1]\" name=\"ref_[1]\">[1]</a> Motivated by this trend, and already benefiting from huge profit gains over the last years, a large fitness center group wants to take hold in New York City.\n\nExpectedly, it want's to make sure that it invests into the right location, because the stakeholders expect it to generate profit from the get-go. However, New York already has a lot of fitness centers and the question is, whether a suitable location can be determined, in this case based on the density of fitness centers, the ratings and likes of those fitness centers, the (pedestrian) traffic, population density, and public safety."
        },
        {
            "cell_type": "markdown",
            "metadata": {},
            "source": "<a href=\"#[2]\" name=\"fn_[2]\">Data</a>"
        },
        {
            "cell_type": "markdown",
            "metadata": {},
            "source": "The boroughs of New-York and their population density can be found on wikipedia.org in the table \"New York City's five boroughs\",<a href=\"#fn_ref_[2]\" name=\"ref_[2]\">[2]</a> which will be crawled respectively.\n\nThe different values will be displayed on a chloropleth map of the five boroughs of New York City.<a href=\"#fn_ref_[3]\" name=\"ref_[3]\">[3]</a>\n\nThe density of fitness centers is retrieved by counting the fitness centers in New York per borough. The number of fitness centers will be retrieved via counting the venues of the category 'Gym / Fitness center', in this case only the sub-categories 'Gymnastics Gym', 'Gym', and 'Weight Loss Center' will be included. These venues are returned by the Foursquare Places API \"explore\" endpoint,<a href=\"#fn_ref_[4]\" name=\"ref_[4]\">[4]</a> and by their address grouped per borough.\n\nThe ratings and likes of the venues will be retrieved using the foursquare Places API \"details\" enpoint.<a href=\"#fn_ref_[4]\" name=\"ref_[4]\">[4]</a>\n\nThe traffic within each county will be retrieved using official data on transportation<a href=\"#fn_ref_[5]\" name=\"ref_[5]\">[5]</a>. However, only New York counties will be considered. This data, and the population data per county, will then be used to normalize the number of fitness centers per county, since this then delivers a good estimate answer to the question, which counties have relatively less fitness centers than others, and thus are more prospective candidates.\n\nThe safety per county will be estimated via <a href=\"#fn_ref_[6]\" name=\"ref_[6]\">[6]</a>, since especially pedestrians desire venues of high safety."
        },
        {
            "cell_type": "markdown",
            "metadata": {},
            "source": "<a href=\"#[3]\" name=\"fn_[3]\">Methodology</a>"
        },
        {
            "cell_type": "markdown",
            "metadata": {},
            "source": "Methodology section which represents the main component of the report where you discuss and describe any exploratory data analysis that you did, any inferential statistical testing that you performed, if any, and what machine learnings were used and why."
        },
        {
            "cell_type": "markdown",
            "metadata": {},
            "source": "<a href=\"#[4]\" name=\"fn_[4]\">Results</a>"
        },
        {
            "cell_type": "markdown",
            "metadata": {},
            "source": "Results section where you discuss the results."
        },
        {
            "cell_type": "markdown",
            "metadata": {},
            "source": "<a href=\"#[5]\" name=\"fn_[5]\">Discussion</a>"
        },
        {
            "cell_type": "markdown",
            "metadata": {},
            "source": "Discussion section where you discuss any observations you noted and any recommendations you can make based on the results."
        },
        {
            "cell_type": "markdown",
            "metadata": {},
            "source": "<a href=\"#[6]\" name=\"fn_[6]\">Conclusion</a>"
        },
        {
            "cell_type": "markdown",
            "metadata": {},
            "source": "Conclusion section where you conclude the report."
        },
        {
            "cell_type": "markdown",
            "metadata": {},
            "source": "<a href=\"#[7]\" name=\"fn_[7]\">References</a>"
        },
        {
            "cell_type": "markdown",
            "metadata": {},
            "source": "<a href=\"#ref_[1]\" name=\"fn_ref_[1]\">[1]</a> https://www.statista.com/statistics/236120/us-fitness-center-revenue/\n\n<a href=\"#ref_[2]\" name=\"fn_ref_[2]\">[2]</a> https://en.wikipedia.org/wiki/New_York_City#Boroughs\n\n<a href=\"#ref_[3]\" name=\"fn_ref_[3]\">[3]</a> https://github.com/dwillis/nyc-maps/blob/master/boroughs.geojson\n\n<a href=\"#ref_[4]\" name=\"fn_ref_[4]\">[4]</a> https://developer.foursquare.com/docs/api/endpoints \n\n<a href=\"#ref_[5]\" name=\"fn_ref_[5]\">[5]</a> https://data.ny.gov/Transportation/Annual-Average-Daily-Traffic-AADT-Beginning-1977/6amx-2pbv\n\n<a href=\"#ref_[6]\" name=\"fn_ref_[6]\">[6]</a> https://data.ny.gov/Public-Safety/Index-Crimes-by-County-and-Agency-Beginning-1990/ca8h-8gjq"
        },
        {
            "cell_type": "code",
            "execution_count": null,
            "metadata": {},
            "outputs": [],
            "source": ""
        }
    ],
    "metadata": {
        "kernelspec": {
            "display_name": "Python 3.6",
            "language": "python",
            "name": "python3"
        },
        "language_info": {
            "codemirror_mode": {
                "name": "ipython",
                "version": 3
            },
            "file_extension": ".py",
            "mimetype": "text/x-python",
            "name": "python",
            "nbconvert_exporter": "python",
            "pygments_lexer": "ipython3",
            "version": "3.6.9"
        }
    },
    "nbformat": 4,
    "nbformat_minor": 1
}